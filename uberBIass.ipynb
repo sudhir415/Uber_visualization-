{
  "nbformat": 4,
  "nbformat_minor": 0,
  "metadata": {
    "colab": {
      "name": "uberBIass.ipynb",
      "provenance": [],
      "collapsed_sections": []
    },
    "kernelspec": {
      "name": "python3",
      "display_name": "Python 3"
    }
  },
  "cells": [
    {
      "cell_type": "code",
      "metadata": {
        "id": "SRjsnrk6MK2p"
      },
      "source": [
        "import numpy as np\n",
        "import pandas as pd\n",
        "import seaborn as sns\n",
        "import matplotlib.pyplot as plt\n",
        "import datetime as dt \n"
      ],
      "execution_count": 56,
      "outputs": []
    },
    {
      "cell_type": "code",
      "metadata": {
        "id": "DeV9D3FXK-ub"
      },
      "source": [
        "uber = pd.read_csv(\"/content/drive/My Drive/Uber Request Data.csv\")"
      ],
      "execution_count": 57,
      "outputs": []
    },
    {
      "cell_type": "code",
      "metadata": {
        "id": "UJHTrNluMPy1",
        "outputId": "2d8808bf-0bd0-48c3-cebe-81445f832e79",
        "colab": {
          "base_uri": "https://localhost:8080/",
          "height": 204
        }
      },
      "source": [
        "uber.head()"
      ],
      "execution_count": 58,
      "outputs": [
        {
          "output_type": "execute_result",
          "data": {
            "text/html": [
              "<div>\n",
              "<style scoped>\n",
              "    .dataframe tbody tr th:only-of-type {\n",
              "        vertical-align: middle;\n",
              "    }\n",
              "\n",
              "    .dataframe tbody tr th {\n",
              "        vertical-align: top;\n",
              "    }\n",
              "\n",
              "    .dataframe thead th {\n",
              "        text-align: right;\n",
              "    }\n",
              "</style>\n",
              "<table border=\"1\" class=\"dataframe\">\n",
              "  <thead>\n",
              "    <tr style=\"text-align: right;\">\n",
              "      <th></th>\n",
              "      <th>Request id</th>\n",
              "      <th>Pickup point</th>\n",
              "      <th>Driver id</th>\n",
              "      <th>Status</th>\n",
              "      <th>Request timestamp</th>\n",
              "      <th>Drop timestamp</th>\n",
              "    </tr>\n",
              "  </thead>\n",
              "  <tbody>\n",
              "    <tr>\n",
              "      <th>0</th>\n",
              "      <td>619</td>\n",
              "      <td>Airport</td>\n",
              "      <td>1.0</td>\n",
              "      <td>Trip Completed</td>\n",
              "      <td>11/7/2016 11:51</td>\n",
              "      <td>11/7/2016 13:00</td>\n",
              "    </tr>\n",
              "    <tr>\n",
              "      <th>1</th>\n",
              "      <td>867</td>\n",
              "      <td>Airport</td>\n",
              "      <td>1.0</td>\n",
              "      <td>Trip Completed</td>\n",
              "      <td>11/7/2016 17:57</td>\n",
              "      <td>11/7/2016 18:47</td>\n",
              "    </tr>\n",
              "    <tr>\n",
              "      <th>2</th>\n",
              "      <td>1807</td>\n",
              "      <td>City</td>\n",
              "      <td>1.0</td>\n",
              "      <td>Trip Completed</td>\n",
              "      <td>12/7/2016 9:17</td>\n",
              "      <td>12/7/2016 9:58</td>\n",
              "    </tr>\n",
              "    <tr>\n",
              "      <th>3</th>\n",
              "      <td>2532</td>\n",
              "      <td>Airport</td>\n",
              "      <td>1.0</td>\n",
              "      <td>Trip Completed</td>\n",
              "      <td>12/7/2016 21:08</td>\n",
              "      <td>12/7/2016 22:03</td>\n",
              "    </tr>\n",
              "    <tr>\n",
              "      <th>4</th>\n",
              "      <td>3112</td>\n",
              "      <td>City</td>\n",
              "      <td>1.0</td>\n",
              "      <td>Trip Completed</td>\n",
              "      <td>13-07-2016 08:33:16</td>\n",
              "      <td>13-07-2016 09:25:47</td>\n",
              "    </tr>\n",
              "  </tbody>\n",
              "</table>\n",
              "</div>"
            ],
            "text/plain": [
              "   Request id Pickup point  ...    Request timestamp       Drop timestamp\n",
              "0         619      Airport  ...      11/7/2016 11:51      11/7/2016 13:00\n",
              "1         867      Airport  ...      11/7/2016 17:57      11/7/2016 18:47\n",
              "2        1807         City  ...       12/7/2016 9:17       12/7/2016 9:58\n",
              "3        2532      Airport  ...      12/7/2016 21:08      12/7/2016 22:03\n",
              "4        3112         City  ...  13-07-2016 08:33:16  13-07-2016 09:25:47\n",
              "\n",
              "[5 rows x 6 columns]"
            ]
          },
          "metadata": {
            "tags": []
          },
          "execution_count": 58
        }
      ]
    },
    {
      "cell_type": "code",
      "metadata": {
        "id": "MiwBD0_LMSRH"
      },
      "source": [
        "un_rides = uber.loc[uber['Status'] != 'Trip Completed']\n"
      ],
      "execution_count": 59,
      "outputs": []
    },
    {
      "cell_type": "code",
      "metadata": {
        "id": "NeVYwwQfXxIO"
      },
      "source": [
        "uncom_rid = un_rides.shape[0]"
      ],
      "execution_count": 60,
      "outputs": []
    },
    {
      "cell_type": "code",
      "metadata": {
        "id": "_hyZhS2jf37R"
      },
      "source": [
        "rides = uber.loc[uber['Status'] == 'Trip Completed']"
      ],
      "execution_count": 61,
      "outputs": []
    },
    {
      "cell_type": "code",
      "metadata": {
        "id": "pNFaz9AAiDEI"
      },
      "source": [
        "com_rid = rides.shape[0]"
      ],
      "execution_count": 62,
      "outputs": []
    },
    {
      "cell_type": "markdown",
      "metadata": {
        "id": "Agbgpi3sf4fT"
      },
      "source": [
        "# plot of completed rides or uncompleted rides ( Here uncompleted rides due to 2 reasons)\n",
        "1. Because of Cancelation . \n",
        "2. Second is due to unavailability . \n",
        "3. lets deep dive in it . \n",
        "\n"
      ]
    },
    {
      "cell_type": "code",
      "metadata": {
        "id": "Vg7fd3J_io41",
        "outputId": "4cda993f-684b-4370-9310-a9c970161ccd",
        "colab": {
          "base_uri": "https://localhost:8080/",
          "height": 531
        }
      },
      "source": [
        "plt.figure(figsize=(6,4),dpi=150)\n",
        "my_explode = (0, 0.1)\n",
        "labels = ['uncompleted_rides','completed_rides']\n",
        "x = [uncom_rid,com_rid]\n",
        "plt.title(\"completed rides or uncompleted rides percentage\")\n",
        "plt.pie(x,labels=labels,explode = my_explode,autopct='%.2f %%')\n",
        "plt.show()\n"
      ],
      "execution_count": 63,
      "outputs": [
        {
          "output_type": "display_data",
          "data": {
            "image/png": "[encoded data removed]",
            "text/plain": [
              "<Figure size 900x600 with 1 Axes>"
            ]
          },
          "metadata": {
            "tags": []
          }
        }
      ]
    },
    {
      "cell_type": "markdown",
      "metadata": {
        "id": "vHIXrr1Qi59A"
      },
      "source": [
        "Here we are look into . \n",
        "\n",
        "1) Total completed trips \n",
        "2) Total canceled trips \n",
        "3) Total no car available \n",
        "4) Total Completed when booked from city  \n",
        "5) Total canceled when booked from city \n",
        "6) Total NO car available when booked from City \n",
        "7) Total Completed trips when booked from Aiport \n",
        "8) Total Canceled Trips when booked from Aiport\n",
        "9) Total No Cars Available when booked from Airport \n"
      ]
    },
    {
      "cell_type": "code",
      "metadata": {
        "id": "VFowD2FEjmvS",
        "outputId": "59f44cbe-9316-422a-c4b9-e43d3d96f3c2",
        "colab": {
          "base_uri": "https://localhost:8080/"
        }
      },
      "source": [
        "uber.info"
      ],
      "execution_count": 65,
      "outputs": [
        {
          "output_type": "execute_result",
          "data": {
            "text/plain": [
              "<bound method DataFrame.info of       Request id Pickup point  ...    Request timestamp       Drop timestamp\n",
              "0            619      Airport  ...      11/7/2016 11:51      11/7/2016 13:00\n",
              "1            867      Airport  ...      11/7/2016 17:57      11/7/2016 18:47\n",
              "2           1807         City  ...       12/7/2016 9:17       12/7/2016 9:58\n",
              "3           2532      Airport  ...      12/7/2016 21:08      12/7/2016 22:03\n",
              "4           3112         City  ...  13-07-2016 08:33:16  13-07-2016 09:25:47\n",
              "...          ...          ...  ...                  ...                  ...\n",
              "6740        6745         City  ...  15-07-2016 23:49:03                  NaN\n",
              "6741        6752      Airport  ...  15-07-2016 23:50:05                  NaN\n",
              "6742        6751         City  ...  15-07-2016 23:52:06                  NaN\n",
              "6743        6754         City  ...  15-07-2016 23:54:39                  NaN\n",
              "6744        6753      Airport  ...  15-07-2016 23:55:03                  NaN\n",
              "\n",
              "[6745 rows x 6 columns]>"
            ]
          },
          "metadata": {
            "tags": []
          },
          "execution_count": 65
        }
      ]
    },
    {
      "cell_type": "code",
      "metadata": {
        "id": "5qgd2mmjREjd",
        "outputId": "08cf789a-7927-4fb7-df37-2bd765003932",
        "colab": {
          "base_uri": "https://localhost:8080/"
        }
      },
      "source": [
        "uber.describe"
      ],
      "execution_count": 66,
      "outputs": [
        {
          "output_type": "execute_result",
          "data": {
            "text/plain": [
              "<bound method NDFrame.describe of       Request id Pickup point  ...    Request timestamp       Drop timestamp\n",
              "0            619      Airport  ...      11/7/2016 11:51      11/7/2016 13:00\n",
              "1            867      Airport  ...      11/7/2016 17:57      11/7/2016 18:47\n",
              "2           1807         City  ...       12/7/2016 9:17       12/7/2016 9:58\n",
              "3           2532      Airport  ...      12/7/2016 21:08      12/7/2016 22:03\n",
              "4           3112         City  ...  13-07-2016 08:33:16  13-07-2016 09:25:47\n",
              "...          ...          ...  ...                  ...                  ...\n",
              "6740        6745         City  ...  15-07-2016 23:49:03                  NaN\n",
              "6741        6752      Airport  ...  15-07-2016 23:50:05                  NaN\n",
              "6742        6751         City  ...  15-07-2016 23:52:06                  NaN\n",
              "6743        6754         City  ...  15-07-2016 23:54:39                  NaN\n",
              "6744        6753      Airport  ...  15-07-2016 23:55:03                  NaN\n",
              "\n",
              "[6745 rows x 6 columns]>"
            ]
          },
          "metadata": {
            "tags": []
          },
          "execution_count": 66
        }
      ]
    },
    {
      "cell_type": "code",
      "metadata": {
        "id": "dWDtzNXlRG8g",
        "outputId": "2c5a76f3-cf76-4514-c3f7-596535aee866",
        "colab": {
          "base_uri": "https://localhost:8080/"
        }
      },
      "source": [
        "uber['Status'].unique()"
      ],
      "execution_count": 67,
      "outputs": [
        {
          "output_type": "execute_result",
          "data": {
            "text/plain": [
              "array(['Trip Completed', 'Cancelled', 'No Cars Available'], dtype=object)"
            ]
          },
          "metadata": {
            "tags": []
          },
          "execution_count": 67
        }
      ]
    },
    {
      "cell_type": "code",
      "metadata": {
        "id": "oEZYOtxARz0U"
      },
      "source": [
        "total_cancel = uber.loc[uber['Status'] == 'Cancelled'].shape[0] "
      ],
      "execution_count": 68,
      "outputs": []
    },
    {
      "cell_type": "code",
      "metadata": {
        "id": "SWhsIZ4oVUHj"
      },
      "source": [
        "cancel_city = uber.loc[(uber['Status'] == 'Cancelled') & (uber['Pickup point'] == 'City')].shape[0] "
      ],
      "execution_count": 69,
      "outputs": []
    },
    {
      "cell_type": "code",
      "metadata": {
        "id": "E06ww6_xVT6d"
      },
      "source": [
        "cancel_airport = uber.loc[(uber['Status'] == 'Cancelled') & (uber['Pickup point'] == 'Airport')].shape[0] "
      ],
      "execution_count": 70,
      "outputs": []
    },
    {
      "cell_type": "code",
      "metadata": {
        "id": "8Dr7xEykSVgj"
      },
      "source": [
        "total_no_car_available = uber.loc[uber['Status'] == 'No Cars Available'].shape[0] "
      ],
      "execution_count": 71,
      "outputs": []
    },
    {
      "cell_type": "code",
      "metadata": {
        "id": "kVzJczbHSbcu"
      },
      "source": [
        "no_cars_airport = uber.loc[(uber['Status'] == 'No Cars Available') & (uber['Pickup point'] == 'Airport')].shape[0]   "
      ],
      "execution_count": 72,
      "outputs": []
    },
    {
      "cell_type": "code",
      "metadata": {
        "id": "hpd0aDGZTDUs"
      },
      "source": [
        "no_cars_city = uber.loc[(uber['Status'] == 'No Cars Available') & (uber['Pickup point'] == 'City')].shape[0] "
      ],
      "execution_count": 73,
      "outputs": []
    },
    {
      "cell_type": "code",
      "metadata": {
        "id": "u9VIMKKQTDKB",
        "outputId": "446cab31-fade-44a8-cd11-f46ed89e8db4",
        "colab": {
          "base_uri": "https://localhost:8080/"
        }
      },
      "source": [
        "rides.shape[0]"
      ],
      "execution_count": 74,
      "outputs": [
        {
          "output_type": "execute_result",
          "data": {
            "text/plain": [
              "2831"
            ]
          },
          "metadata": {
            "tags": []
          },
          "execution_count": 74
        }
      ]
    },
    {
      "cell_type": "code",
      "metadata": {
        "id": "IH7a82wgTC_m"
      },
      "source": [
        "total_completed = uber.loc[(uber['Status'] == 'Trip Completed')].shape[0]"
      ],
      "execution_count": 75,
      "outputs": []
    },
    {
      "cell_type": "code",
      "metadata": {
        "id": "GgVfOrlrTCfI"
      },
      "source": [
        "completed_city = uber.loc[(uber['Status'] == 'Trip Completed') & (uber['Pickup point'] == 'City')].shape[0]"
      ],
      "execution_count": 76,
      "outputs": []
    },
    {
      "cell_type": "code",
      "metadata": {
        "id": "VMvGpqjESsMO"
      },
      "source": [
        "completed_airport = uber.loc[(uber['Status'] == 'Trip Completed') & (uber['Pickup point'] == 'Airport')].shape[0]"
      ],
      "execution_count": 77,
      "outputs": []
    },
    {
      "cell_type": "code",
      "metadata": {
        "id": "Wntx_zPKSB1y"
      },
      "source": [
        "y = [total_completed, total_cancel, total_no_car_available , completed_city, cancel_city, no_cars_city , completed_airport, cancel_airport, no_cars_airport]"
      ],
      "execution_count": 78,
      "outputs": []
    },
    {
      "cell_type": "code",
      "metadata": {
        "id": "hlkfH-PxiGy9"
      },
      "source": [
        "x = ['total_completed', 'total_cancel', 'total_no_car_available' , 'completed_city', 'cancel_city', 'no_cars_available_city' , 'completed_airport', 'cancel_airport', 'no_cars_available_airport']"
      ],
      "execution_count": 79,
      "outputs": []
    },
    {
      "cell_type": "markdown",
      "metadata": {
        "id": "pdkhDPDji0Th"
      },
      "source": [
        "# VISUALIZATION "
      ]
    },
    {
      "cell_type": "code",
      "metadata": {
        "id": "yL62TwJkicPg",
        "outputId": "acfc6153-1814-4618-8d7f-8d718c03c68b",
        "colab": {
          "base_uri": "https://localhost:8080/",
          "height": 457
        }
      },
      "source": [
        "plt.figure(figsize=(8,5), dpi=100)\n",
        "plt.barh(x,y)\n",
        "plt.xlabel(\"number of cars canceled\")\n",
        "plt.show()\n"
      ],
      "execution_count": 80,
      "outputs": [
        {
          "output_type": "display_data",
          "data": {
            "image/png": "[encoded data removed]",
            "text/plain": [
              "<Figure size 800x500 with 1 Axes>"
            ]
          },
          "metadata": {
            "tags": [],
            "needs_background": "light"
          }
        }
      ]
    },
    {
      "cell_type": "markdown",
      "metadata": {
        "id": "-O5p29v5g2Vb"
      },
      "source": [
        "# Here is the Basic analysis of Total demands of cars \n",
        "1) Total Demand of Cars \n",
        "\n",
        "2) Supply that delivered successfully \n",
        "\n",
        "3) Overall shortage comprises of 2 things (a. - Due to cancelation , b. Due to no car available.) \n",
        "\n",
        "4) Availability of car comrises of both (a. Those successfully delivered b. those available but canceled) \n",
        "\n",
        "5) Shortage due to cancelation \n"
      ]
    },
    {
      "cell_type": "code",
      "metadata": {
        "id": "qcK87x3OCZ1m"
      },
      "source": [
        "total_demand =  total_completed + total_cancel +  total_no_car_available "
      ],
      "execution_count": 81,
      "outputs": []
    },
    {
      "cell_type": "code",
      "metadata": {
        "id": "iRrv0g5DKkbT",
        "outputId": "0dfc66ce-8bde-4886-a460-49f846ed0c87",
        "colab": {
          "base_uri": "https://localhost:8080/"
        }
      },
      "source": [
        "total_demand "
      ],
      "execution_count": 82,
      "outputs": [
        {
          "output_type": "execute_result",
          "data": {
            "text/plain": [
              "6745"
            ]
          },
          "metadata": {
            "tags": []
          },
          "execution_count": 82
        }
      ]
    },
    {
      "cell_type": "code",
      "metadata": {
        "id": "ojcED8lfCQlu"
      },
      "source": [
        "available_cars = total_completed + total_cancel "
      ],
      "execution_count": 83,
      "outputs": []
    },
    {
      "cell_type": "code",
      "metadata": {
        "id": "CiGoJTO5Km4O",
        "outputId": "f57fe8df-12d7-4c12-8b15-4537ed7be026",
        "colab": {
          "base_uri": "https://localhost:8080/"
        }
      },
      "source": [
        "total_cancel"
      ],
      "execution_count": 84,
      "outputs": [
        {
          "output_type": "execute_result",
          "data": {
            "text/plain": [
              "1264"
            ]
          },
          "metadata": {
            "tags": []
          },
          "execution_count": 84
        }
      ]
    },
    {
      "cell_type": "code",
      "metadata": {
        "id": "NmAwrBTcKuvE",
        "outputId": "154d1d94-cc53-4220-f4a3-8a071133d03b",
        "colab": {
          "base_uri": "https://localhost:8080/"
        }
      },
      "source": [
        "total_no_car_available"
      ],
      "execution_count": 85,
      "outputs": [
        {
          "output_type": "execute_result",
          "data": {
            "text/plain": [
              "2650"
            ]
          },
          "metadata": {
            "tags": []
          },
          "execution_count": 85
        }
      ]
    },
    {
      "cell_type": "code",
      "metadata": {
        "id": "oaxWgCKlKufI"
      },
      "source": [
        "shortage_due_to_cancellation = total_demand  -  (total_no_car_available+total_completed) "
      ],
      "execution_count": 86,
      "outputs": []
    },
    {
      "cell_type": "code",
      "metadata": {
        "id": "5JlLE2ODKuSf"
      },
      "source": [
        "overall_shortage = total_demand - total_completed  "
      ],
      "execution_count": 87,
      "outputs": []
    },
    {
      "cell_type": "code",
      "metadata": {
        "id": "OMcFHAWCWgDr"
      },
      "source": [
        "supplied_succesfully = total_completed"
      ],
      "execution_count": 88,
      "outputs": []
    },
    {
      "cell_type": "code",
      "metadata": {
        "id": "PvasWxOAPCTA"
      },
      "source": [
        "x_axis = [total_demand,supplied_succesfully, overall_shortage ,available_cars, shortage_due_to_cancellation]"
      ],
      "execution_count": 89,
      "outputs": []
    },
    {
      "cell_type": "code",
      "metadata": {
        "id": "t9ITvbQKUCsV",
        "outputId": "6866f0e3-bd51-4f1b-9465-5715f102ac84",
        "colab": {
          "base_uri": "https://localhost:8080/"
        }
      },
      "source": [
        "x_axis"
      ],
      "execution_count": 90,
      "outputs": [
        {
          "output_type": "execute_result",
          "data": {
            "text/plain": [
              "[6745, 2831, 3914, 4095, 1264]"
            ]
          },
          "metadata": {
            "tags": []
          },
          "execution_count": 90
        }
      ]
    },
    {
      "cell_type": "code",
      "metadata": {
        "id": "0bPohBvMSV4m"
      },
      "source": [
        "labels = ['total_demand','supplied_succesfully','overall_shortage' ,'available_cars', 'shortage_due_to_cancellation']"
      ],
      "execution_count": 91,
      "outputs": []
    },
    {
      "cell_type": "markdown",
      "metadata": {
        "id": "3QCmBWsCiuOi"
      },
      "source": [
        "# VISUALIZATION "
      ]
    },
    {
      "cell_type": "code",
      "metadata": {
        "id": "qsqIXBDWOx0O",
        "outputId": "e5aa103e-d001-4d97-ede3-7cbbb7f15c6e",
        "colab": {
          "base_uri": "https://localhost:8080/",
          "height": 457
        }
      },
      "source": [
        "plt.figure(figsize=(8,5), dpi=100)\n",
        "plt.barh(labels, x_axis)\n",
        "plt.xlabel(\"Numerical values\")\n",
        "plt.ylabel(\" Different Issues\")\n",
        "plt.show()"
      ],
      "execution_count": 92,
      "outputs": [
        {
          "output_type": "display_data",
          "data": {
            "image/png": "[encoded data removed]",
            "text/plain": [
              "<Figure size 800x500 with 1 Axes>"
            ]
          },
          "metadata": {
            "tags": [],
            "needs_background": "light"
          }
        }
      ]
    },
    {
      "cell_type": "code",
      "metadata": {
        "id": "uKmOgvcwsu-V",
        "outputId": "4c985367-ed16-4641-c9cc-b7e627fa3d63",
        "colab": {
          "base_uri": "https://localhost:8080/",
          "height": 457
        }
      },
      "source": [
        "plt.figure(figsize=(8,5), dpi=100)\n",
        "sns.countplot(x=uber['Pickup point'],hue =uber['Status'] ,data = uber) \n",
        "plt.show()"
      ],
      "execution_count": 93,
      "outputs": [
        {
          "output_type": "display_data",
          "data": {
            "image/png": "[encoded data removed]",
            "text/plain": [
              "<Figure size 800x500 with 1 Axes>"
            ]
          },
          "metadata": {
            "tags": [],
            "needs_background": "light"
          }
        }
      ]
    },
    {
      "cell_type": "code",
      "metadata": {
        "id": "8oZByvfYiC6N",
        "outputId": "a7247e2c-47a6-468a-bb2d-8a1eab2e09ac",
        "colab": {
          "base_uri": "https://localhost:8080/"
        }
      },
      "source": [
        "total_completed"
      ],
      "execution_count": 94,
      "outputs": [
        {
          "output_type": "execute_result",
          "data": {
            "text/plain": [
              "2831"
            ]
          },
          "metadata": {
            "tags": []
          },
          "execution_count": 94
        }
      ]
    },
    {
      "cell_type": "code",
      "metadata": {
        "id": "i9EVCOIKkMTa",
        "outputId": "9057fcb2-dcd7-4306-ba86-1d14f08b4242",
        "colab": {
          "base_uri": "https://localhost:8080/",
          "height": 359
        }
      },
      "source": [
        "uber.head(10)"
      ],
      "execution_count": 95,
      "outputs": [
        {
          "output_type": "execute_result",
          "data": {
            "text/html": [
              "<div>\n",
              "<style scoped>\n",
              "    .dataframe tbody tr th:only-of-type {\n",
              "        vertical-align: middle;\n",
              "    }\n",
              "\n",
              "    .dataframe tbody tr th {\n",
              "        vertical-align: top;\n",
              "    }\n",
              "\n",
              "    .dataframe thead th {\n",
              "        text-align: right;\n",
              "    }\n",
              "</style>\n",
              "<table border=\"1\" class=\"dataframe\">\n",
              "  <thead>\n",
              "    <tr style=\"text-align: right;\">\n",
              "      <th></th>\n",
              "      <th>Request id</th>\n",
              "      <th>Pickup point</th>\n",
              "      <th>Driver id</th>\n",
              "      <th>Status</th>\n",
              "      <th>Request timestamp</th>\n",
              "      <th>Drop timestamp</th>\n",
              "    </tr>\n",
              "  </thead>\n",
              "  <tbody>\n",
              "    <tr>\n",
              "      <th>0</th>\n",
              "      <td>619</td>\n",
              "      <td>Airport</td>\n",
              "      <td>1.0</td>\n",
              "      <td>Trip Completed</td>\n",
              "      <td>11/7/2016 11:51</td>\n",
              "      <td>11/7/2016 13:00</td>\n",
              "    </tr>\n",
              "    <tr>\n",
              "      <th>1</th>\n",
              "      <td>867</td>\n",
              "      <td>Airport</td>\n",
              "      <td>1.0</td>\n",
              "      <td>Trip Completed</td>\n",
              "      <td>11/7/2016 17:57</td>\n",
              "      <td>11/7/2016 18:47</td>\n",
              "    </tr>\n",
              "    <tr>\n",
              "      <th>2</th>\n",
              "      <td>1807</td>\n",
              "      <td>City</td>\n",
              "      <td>1.0</td>\n",
              "      <td>Trip Completed</td>\n",
              "      <td>12/7/2016 9:17</td>\n",
              "      <td>12/7/2016 9:58</td>\n",
              "    </tr>\n",
              "    <tr>\n",
              "      <th>3</th>\n",
              "      <td>2532</td>\n",
              "      <td>Airport</td>\n",
              "      <td>1.0</td>\n",
              "      <td>Trip Completed</td>\n",
              "      <td>12/7/2016 21:08</td>\n",
              "      <td>12/7/2016 22:03</td>\n",
              "    </tr>\n",
              "    <tr>\n",
              "      <th>4</th>\n",
              "      <td>3112</td>\n",
              "      <td>City</td>\n",
              "      <td>1.0</td>\n",
              "      <td>Trip Completed</td>\n",
              "      <td>13-07-2016 08:33:16</td>\n",
              "      <td>13-07-2016 09:25:47</td>\n",
              "    </tr>\n",
              "    <tr>\n",
              "      <th>5</th>\n",
              "      <td>3879</td>\n",
              "      <td>Airport</td>\n",
              "      <td>1.0</td>\n",
              "      <td>Trip Completed</td>\n",
              "      <td>13-07-2016 21:57:28</td>\n",
              "      <td>13-07-2016 22:28:59</td>\n",
              "    </tr>\n",
              "    <tr>\n",
              "      <th>6</th>\n",
              "      <td>4270</td>\n",
              "      <td>Airport</td>\n",
              "      <td>1.0</td>\n",
              "      <td>Trip Completed</td>\n",
              "      <td>14-07-2016 06:15:32</td>\n",
              "      <td>14-07-2016 07:13:15</td>\n",
              "    </tr>\n",
              "    <tr>\n",
              "      <th>7</th>\n",
              "      <td>5510</td>\n",
              "      <td>Airport</td>\n",
              "      <td>1.0</td>\n",
              "      <td>Trip Completed</td>\n",
              "      <td>15-07-2016 05:11:52</td>\n",
              "      <td>15-07-2016 06:07:52</td>\n",
              "    </tr>\n",
              "    <tr>\n",
              "      <th>8</th>\n",
              "      <td>6248</td>\n",
              "      <td>City</td>\n",
              "      <td>1.0</td>\n",
              "      <td>Trip Completed</td>\n",
              "      <td>15-07-2016 17:57:27</td>\n",
              "      <td>15-07-2016 18:50:51</td>\n",
              "    </tr>\n",
              "    <tr>\n",
              "      <th>9</th>\n",
              "      <td>267</td>\n",
              "      <td>City</td>\n",
              "      <td>2.0</td>\n",
              "      <td>Trip Completed</td>\n",
              "      <td>11/7/2016 6:46</td>\n",
              "      <td>11/7/2016 7:25</td>\n",
              "    </tr>\n",
              "  </tbody>\n",
              "</table>\n",
              "</div>"
            ],
            "text/plain": [
              "   Request id Pickup point  ...    Request timestamp       Drop timestamp\n",
              "0         619      Airport  ...      11/7/2016 11:51      11/7/2016 13:00\n",
              "1         867      Airport  ...      11/7/2016 17:57      11/7/2016 18:47\n",
              "2        1807         City  ...       12/7/2016 9:17       12/7/2016 9:58\n",
              "3        2532      Airport  ...      12/7/2016 21:08      12/7/2016 22:03\n",
              "4        3112         City  ...  13-07-2016 08:33:16  13-07-2016 09:25:47\n",
              "5        3879      Airport  ...  13-07-2016 21:57:28  13-07-2016 22:28:59\n",
              "6        4270      Airport  ...  14-07-2016 06:15:32  14-07-2016 07:13:15\n",
              "7        5510      Airport  ...  15-07-2016 05:11:52  15-07-2016 06:07:52\n",
              "8        6248         City  ...  15-07-2016 17:57:27  15-07-2016 18:50:51\n",
              "9         267         City  ...       11/7/2016 6:46       11/7/2016 7:25\n",
              "\n",
              "[10 rows x 6 columns]"
            ]
          },
          "metadata": {
            "tags": []
          },
          "execution_count": 95
        }
      ]
    },
    {
      "cell_type": "code",
      "metadata": {
        "id": "yLJHwKqJkQ0A",
        "outputId": "64daccfe-0b01-4771-9613-165f24f60555",
        "colab": {
          "base_uri": "https://localhost:8080/"
        }
      },
      "source": [
        "uber.dtypes"
      ],
      "execution_count": 96,
      "outputs": [
        {
          "output_type": "execute_result",
          "data": {
            "text/plain": [
              "Request id             int64\n",
              "Pickup point          object\n",
              "Driver id            float64\n",
              "Status                object\n",
              "Request timestamp     object\n",
              "Drop timestamp        object\n",
              "dtype: object"
            ]
          },
          "metadata": {
            "tags": []
          },
          "execution_count": 96
        }
      ]
    },
    {
      "cell_type": "code",
      "metadata": {
        "id": "U9Hy6NWpnJVJ",
        "outputId": "26330f3b-72c9-494e-f641-7e030dd26bfa",
        "colab": {
          "base_uri": "https://localhost:8080/"
        }
      },
      "source": [
        "uber.columns"
      ],
      "execution_count": 97,
      "outputs": [
        {
          "output_type": "execute_result",
          "data": {
            "text/plain": [
              "Index(['Request id', 'Pickup point', 'Driver id', 'Status',\n",
              "       'Request timestamp', 'Drop timestamp'],\n",
              "      dtype='object')"
            ]
          },
          "metadata": {
            "tags": []
          },
          "execution_count": 97
        }
      ]
    },
    {
      "cell_type": "code",
      "metadata": {
        "id": "QRAJ3Xw5FbeZ"
      },
      "source": [
        "uber['Request timestamp'] = pd.to_datetime(uber['Request timestamp'])"
      ],
      "execution_count": 117,
      "outputs": []
    },
    {
      "cell_type": "code",
      "metadata": {
        "id": "hBln_sSrDJ6b"
      },
      "source": [
        "uber['req_hour'] = uber['Request timestamp'].dt.hour                                                                                          "
      ],
      "execution_count": 118,
      "outputs": []
    },
    {
      "cell_type": "code",
      "metadata": {
        "id": "DzLv8URLmwRw",
        "outputId": "536bea17-07bc-4b2d-e843-00d4f61d722f",
        "colab": {
          "base_uri": "https://localhost:8080/"
        }
      },
      "source": [
        "uber['req_hour']"
      ],
      "execution_count": 119,
      "outputs": [
        {
          "output_type": "execute_result",
          "data": {
            "text/plain": [
              "0       11\n",
              "1       17\n",
              "2        9\n",
              "3       21\n",
              "4        8\n",
              "        ..\n",
              "6740    23\n",
              "6741    23\n",
              "6742    23\n",
              "6743    23\n",
              "6744    23\n",
              "Name: req_hour, Length: 6745, dtype: int64"
            ]
          },
          "metadata": {
            "tags": []
          },
          "execution_count": 119
        }
      ]
    },
    {
      "cell_type": "code",
      "metadata": {
        "id": "pqEYYNlnj25B"
      },
      "source": [
        "uber['drop_hour'] = uber['Drop timestamp'].str.slice(-5, -3)"
      ],
      "execution_count": 120,
      "outputs": []
    },
    {
      "cell_type": "code",
      "metadata": {
        "id": "KCYi3En9kCYM",
        "outputId": "4d253e53-c026-4b05-9415-44a03db6d227",
        "colab": {
          "base_uri": "https://localhost:8080/",
          "height": 204
        }
      },
      "source": [
        "uber.head()"
      ],
      "execution_count": 121,
      "outputs": [
        {
          "output_type": "execute_result",
          "data": {
            "text/html": [
              "<div>\n",
              "<style scoped>\n",
              "    .dataframe tbody tr th:only-of-type {\n",
              "        vertical-align: middle;\n",
              "    }\n",
              "\n",
              "    .dataframe tbody tr th {\n",
              "        vertical-align: top;\n",
              "    }\n",
              "\n",
              "    .dataframe thead th {\n",
              "        text-align: right;\n",
              "    }\n",
              "</style>\n",
              "<table border=\"1\" class=\"dataframe\">\n",
              "  <thead>\n",
              "    <tr style=\"text-align: right;\">\n",
              "      <th></th>\n",
              "      <th>Request id</th>\n",
              "      <th>Pickup point</th>\n",
              "      <th>Driver id</th>\n",
              "      <th>Status</th>\n",
              "      <th>Request timestamp</th>\n",
              "      <th>Drop timestamp</th>\n",
              "      <th>req_hour</th>\n",
              "      <th>drop_hour</th>\n",
              "      <th>Request_time_slots</th>\n",
              "    </tr>\n",
              "  </thead>\n",
              "  <tbody>\n",
              "    <tr>\n",
              "      <th>0</th>\n",
              "      <td>619</td>\n",
              "      <td>Airport</td>\n",
              "      <td>1.0</td>\n",
              "      <td>Trip Completed</td>\n",
              "      <td>2016-11-07 11:51:00</td>\n",
              "      <td>11/7/2016 13:00</td>\n",
              "      <td>11</td>\n",
              "      <td>13</td>\n",
              "      <td>Late_Morning</td>\n",
              "    </tr>\n",
              "    <tr>\n",
              "      <th>1</th>\n",
              "      <td>867</td>\n",
              "      <td>Airport</td>\n",
              "      <td>1.0</td>\n",
              "      <td>Trip Completed</td>\n",
              "      <td>2016-11-07 17:57:00</td>\n",
              "      <td>11/7/2016 18:47</td>\n",
              "      <td>17</td>\n",
              "      <td>18</td>\n",
              "      <td>Evening</td>\n",
              "    </tr>\n",
              "    <tr>\n",
              "      <th>2</th>\n",
              "      <td>1807</td>\n",
              "      <td>City</td>\n",
              "      <td>1.0</td>\n",
              "      <td>Trip Completed</td>\n",
              "      <td>2016-12-07 09:17:00</td>\n",
              "      <td>12/7/2016 9:58</td>\n",
              "      <td>9</td>\n",
              "      <td>9</td>\n",
              "      <td>Late_Morning</td>\n",
              "    </tr>\n",
              "    <tr>\n",
              "      <th>3</th>\n",
              "      <td>2532</td>\n",
              "      <td>Airport</td>\n",
              "      <td>1.0</td>\n",
              "      <td>Trip Completed</td>\n",
              "      <td>2016-12-07 21:08:00</td>\n",
              "      <td>12/7/2016 22:03</td>\n",
              "      <td>21</td>\n",
              "      <td>22</td>\n",
              "      <td>Night</td>\n",
              "    </tr>\n",
              "    <tr>\n",
              "      <th>4</th>\n",
              "      <td>3112</td>\n",
              "      <td>City</td>\n",
              "      <td>1.0</td>\n",
              "      <td>Trip Completed</td>\n",
              "      <td>2016-07-13 08:33:16</td>\n",
              "      <td>13-07-2016 09:25:47</td>\n",
              "      <td>8</td>\n",
              "      <td>25</td>\n",
              "      <td>Morning</td>\n",
              "    </tr>\n",
              "  </tbody>\n",
              "</table>\n",
              "</div>"
            ],
            "text/plain": [
              "   Request id Pickup point  Driver id  ... req_hour drop_hour Request_time_slots\n",
              "0         619      Airport        1.0  ...       11        13       Late_Morning\n",
              "1         867      Airport        1.0  ...       17        18            Evening\n",
              "2        1807         City        1.0  ...        9         9       Late_Morning\n",
              "3        2532      Airport        1.0  ...       21        22              Night\n",
              "4        3112         City        1.0  ...        8        25            Morning\n",
              "\n",
              "[5 rows x 9 columns]"
            ]
          },
          "metadata": {
            "tags": []
          },
          "execution_count": 121
        }
      ]
    },
    {
      "cell_type": "code",
      "metadata": {
        "id": "PHJPsPl4uyMx",
        "outputId": "6cade75d-72c7-4104-d1ee-2025313b9150",
        "colab": {
          "base_uri": "https://localhost:8080/"
        }
      },
      "source": [
        "uber.columns"
      ],
      "execution_count": 103,
      "outputs": [
        {
          "output_type": "execute_result",
          "data": {
            "text/plain": [
              "Index(['Request id', 'Pickup point', 'Driver id', 'Status',\n",
              "       'Request timestamp', 'Drop timestamp', 'req_hour', 'drop_hour'],\n",
              "      dtype='object')"
            ]
          },
          "metadata": {
            "tags": []
          },
          "execution_count": 103
        }
      ]
    },
    {
      "cell_type": "code",
      "metadata": {
        "id": "_X8byLh-kfST",
        "outputId": "e882e238-df84-4aaf-de8b-7207a8526d21",
        "colab": {
          "base_uri": "https://localhost:8080/"
        }
      },
      "source": [
        "uber.dtypes"
      ],
      "execution_count": 104,
      "outputs": [
        {
          "output_type": "execute_result",
          "data": {
            "text/plain": [
              "Request id                    int64\n",
              "Pickup point                 object\n",
              "Driver id                   float64\n",
              "Status                       object\n",
              "Request timestamp    datetime64[ns]\n",
              "Drop timestamp               object\n",
              "req_hour                      int64\n",
              "drop_hour                    object\n",
              "dtype: object"
            ]
          },
          "metadata": {
            "tags": []
          },
          "execution_count": 104
        }
      ]
    },
    {
      "cell_type": "code",
      "metadata": {
        "id": "OBVUvtE9kO64"
      },
      "source": [
        "uber['req_hour'] = uber['req_hour'].astype(int).head()"
      ],
      "execution_count": 105,
      "outputs": []
    },
    {
      "cell_type": "code",
      "metadata": {
        "id": "YJdm084yodAd",
        "outputId": "c395f9cd-3881-4fe1-d1bb-7b77e1c15f40",
        "colab": {
          "base_uri": "https://localhost:8080/"
        }
      },
      "source": [
        "uber['drop_hour'].dtype"
      ],
      "execution_count": 106,
      "outputs": [
        {
          "output_type": "execute_result",
          "data": {
            "text/plain": [
              "dtype('O')"
            ]
          },
          "metadata": {
            "tags": []
          },
          "execution_count": 106
        }
      ]
    },
    {
      "cell_type": "code",
      "metadata": {
        "id": "FpzT2yo3osXN",
        "outputId": "fa99fb16-ca1f-46de-a35c-0c2c943de479",
        "colab": {
          "base_uri": "https://localhost:8080/",
          "height": 204
        }
      },
      "source": [
        "uber.head()"
      ],
      "execution_count": 107,
      "outputs": [
        {
          "output_type": "execute_result",
          "data": {
            "text/html": [
              "<div>\n",
              "<style scoped>\n",
              "    .dataframe tbody tr th:only-of-type {\n",
              "        vertical-align: middle;\n",
              "    }\n",
              "\n",
              "    .dataframe tbody tr th {\n",
              "        vertical-align: top;\n",
              "    }\n",
              "\n",
              "    .dataframe thead th {\n",
              "        text-align: right;\n",
              "    }\n",
              "</style>\n",
              "<table border=\"1\" class=\"dataframe\">\n",
              "  <thead>\n",
              "    <tr style=\"text-align: right;\">\n",
              "      <th></th>\n",
              "      <th>Request id</th>\n",
              "      <th>Pickup point</th>\n",
              "      <th>Driver id</th>\n",
              "      <th>Status</th>\n",
              "      <th>Request timestamp</th>\n",
              "      <th>Drop timestamp</th>\n",
              "      <th>req_hour</th>\n",
              "      <th>drop_hour</th>\n",
              "    </tr>\n",
              "  </thead>\n",
              "  <tbody>\n",
              "    <tr>\n",
              "      <th>0</th>\n",
              "      <td>619</td>\n",
              "      <td>Airport</td>\n",
              "      <td>1.0</td>\n",
              "      <td>Trip Completed</td>\n",
              "      <td>2016-11-07 11:51:00</td>\n",
              "      <td>11/7/2016 13:00</td>\n",
              "      <td>11.0</td>\n",
              "      <td>13</td>\n",
              "    </tr>\n",
              "    <tr>\n",
              "      <th>1</th>\n",
              "      <td>867</td>\n",
              "      <td>Airport</td>\n",
              "      <td>1.0</td>\n",
              "      <td>Trip Completed</td>\n",
              "      <td>2016-11-07 17:57:00</td>\n",
              "      <td>11/7/2016 18:47</td>\n",
              "      <td>17.0</td>\n",
              "      <td>18</td>\n",
              "    </tr>\n",
              "    <tr>\n",
              "      <th>2</th>\n",
              "      <td>1807</td>\n",
              "      <td>City</td>\n",
              "      <td>1.0</td>\n",
              "      <td>Trip Completed</td>\n",
              "      <td>2016-12-07 09:17:00</td>\n",
              "      <td>12/7/2016 9:58</td>\n",
              "      <td>9.0</td>\n",
              "      <td>9</td>\n",
              "    </tr>\n",
              "    <tr>\n",
              "      <th>3</th>\n",
              "      <td>2532</td>\n",
              "      <td>Airport</td>\n",
              "      <td>1.0</td>\n",
              "      <td>Trip Completed</td>\n",
              "      <td>2016-12-07 21:08:00</td>\n",
              "      <td>12/7/2016 22:03</td>\n",
              "      <td>21.0</td>\n",
              "      <td>22</td>\n",
              "    </tr>\n",
              "    <tr>\n",
              "      <th>4</th>\n",
              "      <td>3112</td>\n",
              "      <td>City</td>\n",
              "      <td>1.0</td>\n",
              "      <td>Trip Completed</td>\n",
              "      <td>2016-07-13 08:33:16</td>\n",
              "      <td>13-07-2016 09:25:47</td>\n",
              "      <td>8.0</td>\n",
              "      <td>25</td>\n",
              "    </tr>\n",
              "  </tbody>\n",
              "</table>\n",
              "</div>"
            ],
            "text/plain": [
              "   Request id Pickup point  Driver id  ...       Drop timestamp req_hour drop_hour\n",
              "0         619      Airport        1.0  ...      11/7/2016 13:00     11.0        13\n",
              "1         867      Airport        1.0  ...      11/7/2016 18:47     17.0        18\n",
              "2        1807         City        1.0  ...       12/7/2016 9:58      9.0         9\n",
              "3        2532      Airport        1.0  ...      12/7/2016 22:03     21.0        22\n",
              "4        3112         City        1.0  ...  13-07-2016 09:25:47      8.0        25\n",
              "\n",
              "[5 rows x 8 columns]"
            ]
          },
          "metadata": {
            "tags": []
          },
          "execution_count": 107
        }
      ]
    },
    {
      "cell_type": "markdown",
      "metadata": {
        "id": "k43ej1yFnw4Y"
      },
      "source": [
        "#Time Slots Division "
      ]
    },
    {
      "cell_type": "code",
      "metadata": {
        "id": "4css5glnn9ic"
      },
      "source": [
        "uber['Request_time_slots'] = 'Late_night'\n",
        "uber.loc[uber['req_hour'].between(5,8, inclusive=True),'Request_time_slots'] = 'Morning'\n",
        "uber.loc[uber['req_hour'].between(9,12, inclusive=True),'Request_time_slots'] = 'Late_Morning'\n",
        "uber.loc[uber['req_hour'].between(13,16, inclusive=True),'Request_time_slots'] = 'Noon'\n",
        "uber.loc[uber['req_hour'].between(17,21, inclusive=True),'Request_time_slots'] = 'Evening'\n",
        "uber.loc[uber['req_hour'].between(21,24, inclusive=True),'Request_time_slots'] = 'Night'  \n"
      ],
      "execution_count": 125,
      "outputs": []
    },
    {
      "cell_type": "code",
      "metadata": {
        "id": "JYs8qejVvKH8",
        "outputId": "6ba1d6cc-9b00-4345-d279-0b0542e5c383",
        "colab": {
          "base_uri": "https://localhost:8080/",
          "height": 204
        }
      },
      "source": [
        "uber.head(5) "
      ],
      "execution_count": 126,
      "outputs": [
        {
          "output_type": "execute_result",
          "data": {
            "text/html": [
              "<div>\n",
              "<style scoped>\n",
              "    .dataframe tbody tr th:only-of-type {\n",
              "        vertical-align: middle;\n",
              "    }\n",
              "\n",
              "    .dataframe tbody tr th {\n",
              "        vertical-align: top;\n",
              "    }\n",
              "\n",
              "    .dataframe thead th {\n",
              "        text-align: right;\n",
              "    }\n",
              "</style>\n",
              "<table border=\"1\" class=\"dataframe\">\n",
              "  <thead>\n",
              "    <tr style=\"text-align: right;\">\n",
              "      <th></th>\n",
              "      <th>Request id</th>\n",
              "      <th>Pickup point</th>\n",
              "      <th>Driver id</th>\n",
              "      <th>Status</th>\n",
              "      <th>Request timestamp</th>\n",
              "      <th>Drop timestamp</th>\n",
              "      <th>req_hour</th>\n",
              "      <th>drop_hour</th>\n",
              "      <th>Request_time_slots</th>\n",
              "    </tr>\n",
              "  </thead>\n",
              "  <tbody>\n",
              "    <tr>\n",
              "      <th>0</th>\n",
              "      <td>619</td>\n",
              "      <td>Airport</td>\n",
              "      <td>1.0</td>\n",
              "      <td>Trip Completed</td>\n",
              "      <td>2016-11-07 11:51:00</td>\n",
              "      <td>11/7/2016 13:00</td>\n",
              "      <td>11</td>\n",
              "      <td>13</td>\n",
              "      <td>Late_Morning</td>\n",
              "    </tr>\n",
              "    <tr>\n",
              "      <th>1</th>\n",
              "      <td>867</td>\n",
              "      <td>Airport</td>\n",
              "      <td>1.0</td>\n",
              "      <td>Trip Completed</td>\n",
              "      <td>2016-11-07 17:57:00</td>\n",
              "      <td>11/7/2016 18:47</td>\n",
              "      <td>17</td>\n",
              "      <td>18</td>\n",
              "      <td>Evening</td>\n",
              "    </tr>\n",
              "    <tr>\n",
              "      <th>2</th>\n",
              "      <td>1807</td>\n",
              "      <td>City</td>\n",
              "      <td>1.0</td>\n",
              "      <td>Trip Completed</td>\n",
              "      <td>2016-12-07 09:17:00</td>\n",
              "      <td>12/7/2016 9:58</td>\n",
              "      <td>9</td>\n",
              "      <td>9</td>\n",
              "      <td>Late_Morning</td>\n",
              "    </tr>\n",
              "    <tr>\n",
              "      <th>3</th>\n",
              "      <td>2532</td>\n",
              "      <td>Airport</td>\n",
              "      <td>1.0</td>\n",
              "      <td>Trip Completed</td>\n",
              "      <td>2016-12-07 21:08:00</td>\n",
              "      <td>12/7/2016 22:03</td>\n",
              "      <td>21</td>\n",
              "      <td>22</td>\n",
              "      <td>Night</td>\n",
              "    </tr>\n",
              "    <tr>\n",
              "      <th>4</th>\n",
              "      <td>3112</td>\n",
              "      <td>City</td>\n",
              "      <td>1.0</td>\n",
              "      <td>Trip Completed</td>\n",
              "      <td>2016-07-13 08:33:16</td>\n",
              "      <td>13-07-2016 09:25:47</td>\n",
              "      <td>8</td>\n",
              "      <td>25</td>\n",
              "      <td>Morning</td>\n",
              "    </tr>\n",
              "  </tbody>\n",
              "</table>\n",
              "</div>"
            ],
            "text/plain": [
              "   Request id Pickup point  Driver id  ... req_hour drop_hour Request_time_slots\n",
              "0         619      Airport        1.0  ...       11        13       Late_Morning\n",
              "1         867      Airport        1.0  ...       17        18            Evening\n",
              "2        1807         City        1.0  ...        9         9       Late_Morning\n",
              "3        2532      Airport        1.0  ...       21        22              Night\n",
              "4        3112         City        1.0  ...        8        25            Morning\n",
              "\n",
              "[5 rows x 9 columns]"
            ]
          },
          "metadata": {
            "tags": []
          },
          "execution_count": 126
        }
      ]
    },
    {
      "cell_type": "code",
      "metadata": {
        "id": "x1QqITlgdf3s",
        "outputId": "230ca27a-7bd9-47e7-aa46-46f3aae53b98",
        "colab": {
          "base_uri": "https://localhost:8080/",
          "height": 419
        }
      },
      "source": [
        "uber"
      ],
      "execution_count": 127,
      "outputs": [
        {
          "output_type": "execute_result",
          "data": {
            "text/html": [
              "<div>\n",
              "<style scoped>\n",
              "    .dataframe tbody tr th:only-of-type {\n",
              "        vertical-align: middle;\n",
              "    }\n",
              "\n",
              "    .dataframe tbody tr th {\n",
              "        vertical-align: top;\n",
              "    }\n",
              "\n",
              "    .dataframe thead th {\n",
              "        text-align: right;\n",
              "    }\n",
              "</style>\n",
              "<table border=\"1\" class=\"dataframe\">\n",
              "  <thead>\n",
              "    <tr style=\"text-align: right;\">\n",
              "      <th></th>\n",
              "      <th>Request id</th>\n",
              "      <th>Pickup point</th>\n",
              "      <th>Driver id</th>\n",
              "      <th>Status</th>\n",
              "      <th>Request timestamp</th>\n",
              "      <th>Drop timestamp</th>\n",
              "      <th>req_hour</th>\n",
              "      <th>drop_hour</th>\n",
              "      <th>Request_time_slots</th>\n",
              "    </tr>\n",
              "  </thead>\n",
              "  <tbody>\n",
              "    <tr>\n",
              "      <th>0</th>\n",
              "      <td>619</td>\n",
              "      <td>Airport</td>\n",
              "      <td>1.0</td>\n",
              "      <td>Trip Completed</td>\n",
              "      <td>2016-11-07 11:51:00</td>\n",
              "      <td>11/7/2016 13:00</td>\n",
              "      <td>11</td>\n",
              "      <td>13</td>\n",
              "      <td>Late_Morning</td>\n",
              "    </tr>\n",
              "    <tr>\n",
              "      <th>1</th>\n",
              "      <td>867</td>\n",
              "      <td>Airport</td>\n",
              "      <td>1.0</td>\n",
              "      <td>Trip Completed</td>\n",
              "      <td>2016-11-07 17:57:00</td>\n",
              "      <td>11/7/2016 18:47</td>\n",
              "      <td>17</td>\n",
              "      <td>18</td>\n",
              "      <td>Evening</td>\n",
              "    </tr>\n",
              "    <tr>\n",
              "      <th>2</th>\n",
              "      <td>1807</td>\n",
              "      <td>City</td>\n",
              "      <td>1.0</td>\n",
              "      <td>Trip Completed</td>\n",
              "      <td>2016-12-07 09:17:00</td>\n",
              "      <td>12/7/2016 9:58</td>\n",
              "      <td>9</td>\n",
              "      <td>9</td>\n",
              "      <td>Late_Morning</td>\n",
              "    </tr>\n",
              "    <tr>\n",
              "      <th>3</th>\n",
              "      <td>2532</td>\n",
              "      <td>Airport</td>\n",
              "      <td>1.0</td>\n",
              "      <td>Trip Completed</td>\n",
              "      <td>2016-12-07 21:08:00</td>\n",
              "      <td>12/7/2016 22:03</td>\n",
              "      <td>21</td>\n",
              "      <td>22</td>\n",
              "      <td>Night</td>\n",
              "    </tr>\n",
              "    <tr>\n",
              "      <th>4</th>\n",
              "      <td>3112</td>\n",
              "      <td>City</td>\n",
              "      <td>1.0</td>\n",
              "      <td>Trip Completed</td>\n",
              "      <td>2016-07-13 08:33:16</td>\n",
              "      <td>13-07-2016 09:25:47</td>\n",
              "      <td>8</td>\n",
              "      <td>25</td>\n",
              "      <td>Morning</td>\n",
              "    </tr>\n",
              "    <tr>\n",
              "      <th>...</th>\n",
              "      <td>...</td>\n",
              "      <td>...</td>\n",
              "      <td>...</td>\n",
              "      <td>...</td>\n",
              "      <td>...</td>\n",
              "      <td>...</td>\n",
              "      <td>...</td>\n",
              "      <td>...</td>\n",
              "      <td>...</td>\n",
              "    </tr>\n",
              "    <tr>\n",
              "      <th>6740</th>\n",
              "      <td>6745</td>\n",
              "      <td>City</td>\n",
              "      <td>NaN</td>\n",
              "      <td>No Cars Available</td>\n",
              "      <td>2016-07-15 23:49:03</td>\n",
              "      <td>NaN</td>\n",
              "      <td>23</td>\n",
              "      <td>NaN</td>\n",
              "      <td>Night</td>\n",
              "    </tr>\n",
              "    <tr>\n",
              "      <th>6741</th>\n",
              "      <td>6752</td>\n",
              "      <td>Airport</td>\n",
              "      <td>NaN</td>\n",
              "      <td>No Cars Available</td>\n",
              "      <td>2016-07-15 23:50:05</td>\n",
              "      <td>NaN</td>\n",
              "      <td>23</td>\n",
              "      <td>NaN</td>\n",
              "      <td>Night</td>\n",
              "    </tr>\n",
              "    <tr>\n",
              "      <th>6742</th>\n",
              "      <td>6751</td>\n",
              "      <td>City</td>\n",
              "      <td>NaN</td>\n",
              "      <td>No Cars Available</td>\n",
              "      <td>2016-07-15 23:52:06</td>\n",
              "      <td>NaN</td>\n",
              "      <td>23</td>\n",
              "      <td>NaN</td>\n",
              "      <td>Night</td>\n",
              "    </tr>\n",
              "    <tr>\n",
              "      <th>6743</th>\n",
              "      <td>6754</td>\n",
              "      <td>City</td>\n",
              "      <td>NaN</td>\n",
              "      <td>No Cars Available</td>\n",
              "      <td>2016-07-15 23:54:39</td>\n",
              "      <td>NaN</td>\n",
              "      <td>23</td>\n",
              "      <td>NaN</td>\n",
              "      <td>Night</td>\n",
              "    </tr>\n",
              "    <tr>\n",
              "      <th>6744</th>\n",
              "      <td>6753</td>\n",
              "      <td>Airport</td>\n",
              "      <td>NaN</td>\n",
              "      <td>No Cars Available</td>\n",
              "      <td>2016-07-15 23:55:03</td>\n",
              "      <td>NaN</td>\n",
              "      <td>23</td>\n",
              "      <td>NaN</td>\n",
              "      <td>Night</td>\n",
              "    </tr>\n",
              "  </tbody>\n",
              "</table>\n",
              "<p>6745 rows × 9 columns</p>\n",
              "</div>"
            ],
            "text/plain": [
              "      Request id Pickup point  Driver id  ... req_hour drop_hour Request_time_slots\n",
              "0            619      Airport        1.0  ...       11        13       Late_Morning\n",
              "1            867      Airport        1.0  ...       17        18            Evening\n",
              "2           1807         City        1.0  ...        9         9       Late_Morning\n",
              "3           2532      Airport        1.0  ...       21        22              Night\n",
              "4           3112         City        1.0  ...        8        25            Morning\n",
              "...          ...          ...        ...  ...      ...       ...                ...\n",
              "6740        6745         City        NaN  ...       23       NaN              Night\n",
              "6741        6752      Airport        NaN  ...       23       NaN              Night\n",
              "6742        6751         City        NaN  ...       23       NaN              Night\n",
              "6743        6754         City        NaN  ...       23       NaN              Night\n",
              "6744        6753      Airport        NaN  ...       23       NaN              Night\n",
              "\n",
              "[6745 rows x 9 columns]"
            ]
          },
          "metadata": {
            "tags": []
          },
          "execution_count": 127
        }
      ]
    },
    {
      "cell_type": "code",
      "metadata": {
        "id": "pXW0Co_ifkE3"
      },
      "source": [
        " "
      ],
      "execution_count": null,
      "outputs": []
    },
    {
      "cell_type": "code",
      "metadata": {
        "id": "Tw4yqrjG6B-O",
        "outputId": "7ebd55cf-cc85-4887-9662-f83354851ccf",
        "colab": {
          "base_uri": "https://localhost:8080/",
          "height": 458
        }
      },
      "source": [
        "plt.figure(figsize=(8,5),dpi=100)\n",
        "sns.countplot(x=uber['Request_time_slots'],hue =uber['Status'] ,data = uber) \n",
        "plt.show()"
      ],
      "execution_count": 128,
      "outputs": [
        {
          "output_type": "display_data",
          "data": {
            "image/png": "[encoded data removed]",
            "text/plain": [
              "<Figure size 800x500 with 1 Axes>"
            ]
          },
          "metadata": {
            "tags": [],
            "needs_background": "light"
          }
        }
      ]
    },
    {
      "cell_type": "code",
      "metadata": {
        "id": "mG2gbFTG6Bvk",
        "outputId": "c31e4715-5e29-41ef-81c0-9376f8a0df7f",
        "colab": {
          "base_uri": "https://localhost:8080/",
          "height": 386
        }
      },
      "source": [
        "pickup_func = pd.DataFrame(uber.groupby(['Pickup point','Request_time_slots', 'Status'])['Request id'].count().unstack(fill_value=0))\n",
        "pickup_func.plot.bar() \n",
        "plt.show()\n"
      ],
      "execution_count": 140,
      "outputs": [
        {
          "output_type": "display_data",
          "data": {
            "image/png": "[encoded data removed]",
            "text/plain": [
              "<Figure size 432x288 with 1 Axes>"
            ]
          },
          "metadata": {
            "tags": [],
            "needs_background": "light"
          }
        }
      ]
    },
    {
      "cell_type": "code",
      "metadata": {
        "id": "CTXuDZzh6Bhh",
        "outputId": "b99c8a39-91a4-47f4-bcad-3877296a25aa",
        "colab": {
          "base_uri": "https://localhost:8080/",
          "height": 452
        }
      },
      "source": [
        "pickup_func"
      ],
      "execution_count": 141,
      "outputs": [
        {
          "output_type": "execute_result",
          "data": {
            "text/html": [
              "<div>\n",
              "<style scoped>\n",
              "    .dataframe tbody tr th:only-of-type {\n",
              "        vertical-align: middle;\n",
              "    }\n",
              "\n",
              "    .dataframe tbody tr th {\n",
              "        vertical-align: top;\n",
              "    }\n",
              "\n",
              "    .dataframe thead th {\n",
              "        text-align: right;\n",
              "    }\n",
              "</style>\n",
              "<table border=\"1\" class=\"dataframe\">\n",
              "  <thead>\n",
              "    <tr style=\"text-align: right;\">\n",
              "      <th></th>\n",
              "      <th>Status</th>\n",
              "      <th>Cancelled</th>\n",
              "      <th>No Cars Available</th>\n",
              "      <th>Trip Completed</th>\n",
              "    </tr>\n",
              "    <tr>\n",
              "      <th>Pickup point</th>\n",
              "      <th>Request_time_slots</th>\n",
              "      <th></th>\n",
              "      <th></th>\n",
              "      <th></th>\n",
              "    </tr>\n",
              "  </thead>\n",
              "  <tbody>\n",
              "    <tr>\n",
              "      <th rowspan=\"6\" valign=\"top\">Airport</th>\n",
              "      <th>Evening</th>\n",
              "      <td>78</td>\n",
              "      <td>1067</td>\n",
              "      <td>312</td>\n",
              "    </tr>\n",
              "    <tr>\n",
              "      <th>Late_Morning</th>\n",
              "      <td>32</td>\n",
              "      <td>44</td>\n",
              "      <td>239</td>\n",
              "    </tr>\n",
              "    <tr>\n",
              "      <th>Late_night</th>\n",
              "      <td>2</td>\n",
              "      <td>148</td>\n",
              "      <td>103</td>\n",
              "    </tr>\n",
              "    <tr>\n",
              "      <th>Morning</th>\n",
              "      <td>15</td>\n",
              "      <td>14</td>\n",
              "      <td>308</td>\n",
              "    </tr>\n",
              "    <tr>\n",
              "      <th>Night</th>\n",
              "      <td>31</td>\n",
              "      <td>390</td>\n",
              "      <td>203</td>\n",
              "    </tr>\n",
              "    <tr>\n",
              "      <th>Noon</th>\n",
              "      <td>40</td>\n",
              "      <td>50</td>\n",
              "      <td>162</td>\n",
              "    </tr>\n",
              "    <tr>\n",
              "      <th rowspan=\"6\" valign=\"top\">City</th>\n",
              "      <th>Evening</th>\n",
              "      <td>46</td>\n",
              "      <td>60</td>\n",
              "      <td>330</td>\n",
              "    </tr>\n",
              "    <tr>\n",
              "      <th>Late_Morning</th>\n",
              "      <td>239</td>\n",
              "      <td>189</td>\n",
              "      <td>286</td>\n",
              "    </tr>\n",
              "    <tr>\n",
              "      <th>Late_night</th>\n",
              "      <td>63</td>\n",
              "      <td>151</td>\n",
              "      <td>111</td>\n",
              "    </tr>\n",
              "    <tr>\n",
              "      <th>Morning</th>\n",
              "      <td>653</td>\n",
              "      <td>309</td>\n",
              "      <td>373</td>\n",
              "    </tr>\n",
              "    <tr>\n",
              "      <th>Night</th>\n",
              "      <td>33</td>\n",
              "      <td>94</td>\n",
              "      <td>196</td>\n",
              "    </tr>\n",
              "    <tr>\n",
              "      <th>Noon</th>\n",
              "      <td>32</td>\n",
              "      <td>134</td>\n",
              "      <td>208</td>\n",
              "    </tr>\n",
              "  </tbody>\n",
              "</table>\n",
              "</div>"
            ],
            "text/plain": [
              "Status                           Cancelled  No Cars Available  Trip Completed\n",
              "Pickup point Request_time_slots                                              \n",
              "Airport      Evening                    78               1067             312\n",
              "             Late_Morning               32                 44             239\n",
              "             Late_night                  2                148             103\n",
              "             Morning                    15                 14             308\n",
              "             Night                      31                390             203\n",
              "             Noon                       40                 50             162\n",
              "City         Evening                    46                 60             330\n",
              "             Late_Morning              239                189             286\n",
              "             Late_night                 63                151             111\n",
              "             Morning                   653                309             373\n",
              "             Night                      33                 94             196\n",
              "             Noon                       32                134             208"
            ]
          },
          "metadata": {
            "tags": []
          },
          "execution_count": 141
        }
      ]
    },
    {
      "cell_type": "code",
      "metadata": {
        "id": "nTDHRFlzAbSt"
      },
      "source": [
        "uber['Demand'] = 1 "
      ],
      "execution_count": 142,
      "outputs": []
    },
    {
      "cell_type": "code",
      "metadata": {
        "id": "onrycPzNAbJB"
      },
      "source": [
        "uber['Supply'] = 0\n",
        "uber.loc[(uber['Status'] == 'Trip Completed'),'Supply'] = 1"
      ],
      "execution_count": 132,
      "outputs": []
    },
    {
      "cell_type": "code",
      "metadata": {
        "id": "XAFs7NibAa7A"
      },
      "source": [
        "uber['Gap'] = uber['Demand'] - uber['Supply']\n",
        "uber.loc[uber['Gap']==0,'Gap'] = 'Trip Completed'\n",
        "uber.loc[uber['Gap']==1,'Gap'] = 'Trip Not Completed' "
      ],
      "execution_count": 133,
      "outputs": []
    },
    {
      "cell_type": "code",
      "metadata": {
        "id": "QMtR8izPAar5",
        "outputId": "ef9af460-c8d7-482d-d5eb-40bfc3bc6abf",
        "colab": {
          "base_uri": "https://localhost:8080/",
          "height": 337
        }
      },
      "source": [
        "\n",
        "timeslot_gap_func = pd.DataFrame(uber.groupby(['Request_time_slots','Gap'])['Request id'].count().unstack(fill_value=0))\n",
        "timeslot_gap_func.plot.bar()\n",
        "plt.show() "
      ],
      "execution_count": 148,
      "outputs": [
        {
          "output_type": "display_data",
          "data": {
            "image/png": "[encoded data removed]",
            "text/plain": [
              "<Figure size 432x288 with 1 Axes>"
            ]
          },
          "metadata": {
            "tags": [],
            "needs_background": "light"
          }
        }
      ]
    },
    {
      "cell_type": "code",
      "metadata": {
        "id": "5CZUcGSE6BQ5",
        "outputId": "8055eac6-0f06-4da8-e1d6-5739dcc6e1c0",
        "colab": {
          "base_uri": "https://localhost:8080/",
          "height": 303
        }
      },
      "source": [
        "pickup_gap_func = pd.DataFrame(uber.groupby(['Pickup point','Gap'])['Request id'].count().unstack(fill_value=0))\n",
        "pickup_gap_func.plot.bar()\n",
        "plt.show()"
      ],
      "execution_count": 149,
      "outputs": [
        {
          "output_type": "display_data",
          "data": {
            "image/png": "[encoded data removed]",
            "text/plain": [
              "<Figure size 432x288 with 1 Axes>"
            ]
          },
          "metadata": {
            "tags": [],
            "needs_background": "light"
          }
        }
      ]
    },
    {
      "cell_type": "code",
      "metadata": {
        "id": "LZiMmmYf6A9l",
        "outputId": "6b6d3a6f-8b95-4476-e082-a1228f03de30",
        "colab": {
          "base_uri": "https://localhost:8080/",
          "height": 389
        }
      },
      "source": [
        "main_gap_func = pd.DataFrame(uber.groupby(['Request_time_slots','Pickup point','Gap'])['Request id'].count().unstack(fill_value=0))\n",
        "main_gap_func.plot.bar()\n",
        "plt.show() "
      ],
      "execution_count": 151,
      "outputs": [
        {
          "output_type": "display_data",
          "data": {
            "image/png": "[encoded data removed]",
            "text/plain": [
              "<Figure size 432x288 with 1 Axes>"
            ]
          },
          "metadata": {
            "tags": [],
            "needs_background": "light"
          }
        }
      ]
    },
    {
      "cell_type": "markdown",
      "metadata": {
        "id": "2foHjWw9D1Cj"
      },
      "source": [
        "# What do you think is the reason for this issue for the supply-demand gap? Write the answer in less than 100 words. You may accompany the write-up with plot(s)."
      ]
    },
    {
      "cell_type": "markdown",
      "metadata": {
        "id": "5S4l9kusD7J0"
      },
      "source": [
        "Two Times are the most Problematic .\n",
        "1) when pickup point - City .\n",
        "2) When pickup point - Airport . \n",
        "\n",
        "1) \n",
        "ACCORDING to my analysis , cancellation is occur mostly in morning time in the office hours and this is due to the reason of High Rush , When there is Rush the drivers have options to do more rides in less time rather then to travel more and waste time and do less rides . \n",
        "2) \n",
        "In the evening time the problem is  no availability of cars when the pickup point is AIRPORT , and I think it is more serious issue because it can easily solved and more Revenue generating issue . "
      ]
    },
    {
      "cell_type": "markdown",
      "metadata": {
        "id": "_XWCe2x_EDBQ"
      },
      "source": [
        "# Recommend some ways to resolve the supply-demand gap."
      ]
    },
    {
      "cell_type": "markdown",
      "metadata": {
        "id": "8vCtYcahEKGw"
      },
      "source": [
        "#ACCORDING TO MY ANALYSIS , MY SOLUTIONS ARE ******* \n",
        "\n",
        "#For Early morning/Morning - cancellation issue \n",
        "1) We should provide some Incentives to the Drivers for AIRPORT RIDES/WAITING . \n",
        "2) We should Make some policies for Our Drivers so that they make more money for the time they wait in morning traffic by decreasing our commission . \n",
        "3) If Drivers Cancel their Rides multiple times then we should give Penalty to Drivers \n",
        "\n",
        "# For \"NO CAR AVAILABLE \" issue at Airport in EVENING/Night .\n",
        "1) We should provide high Incentives specially for night times and for AIRPORT Rides and extra weightage to the rides . \n",
        "2) We should make extra Stands for AIRPORTS .\n",
        "3) We should provide Extra Cars at low cost EMI to drivers , so that as much as Drivers can connect to us , And we can make profits in Long term . \n",
        "\n"
      ]
    },
    {
      "cell_type": "code",
      "metadata": {
        "id": "pV1G1HJKBMjS"
      },
      "source": [
        ""
      ],
      "execution_count": null,
      "outputs": []
    }
  ]
}